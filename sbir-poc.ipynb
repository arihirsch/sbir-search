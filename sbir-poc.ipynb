{
 "cells": [
  {
   "cell_type": "code",
   "execution_count": 35,
   "metadata": {},
   "outputs": [],
   "source": [
    "from openai import OpenAI\n",
    "import pprint\n",
    "\n",
    "client = OpenAI(\n",
    "  api_key=\"\"\n",
    ")\n",
    "\n",
    "assistant = client.beta.assistants.create(\n",
    "  name=\"SBIR Assistant\",\n",
    "  instructions=\"You are an expert on government grants and funding. You are able to answer questions about the grants and funding available to small businesses.\",\n",
    "  model=\"gpt-4o-mini\",\n",
    "  tools=[{\"type\": \"file_search\"}],\n",
    ")"
   ]
  },
  {
   "cell_type": "code",
   "execution_count": 23,
   "metadata": {},
   "outputs": [
    {
     "name": "stdout",
     "output_type": "stream",
     "text": [
      "completed\n",
      "FileCounts(cancelled=0, completed=2, failed=0, in_progress=0, total=2)\n"
     ]
    }
   ],
   "source": [
    "# Create a vector store caled \"SBIR Grants\"\n",
    "vector_store = client.beta.vector_stores.create(name=\"SBIR Grants\")\n",
    "\n",
    "# Ready the files for upload to OpenAI\n",
    "file_paths = [\"./DoD_grants.pdf\", \"./2025_NASA_SBIR_PhaseI.pdf\"]\n",
    "file_streams = [open(path, \"rb\") for path in file_paths]\n",
    "\n",
    "# Use the upload and poll SDK helper to upload the files, add them to the vector store,\n",
    "# and poll the status of the file batch for completion.\n",
    "file_batch = client.beta.vector_stores.file_batches.upload_and_poll(\n",
    "  vector_store_id=vector_store.id, files=file_streams\n",
    ")\n",
    "\n",
    "# You can print the status and the file counts of the batch to see the result of this operation.\n",
    "print(file_batch.status)\n",
    "print(file_batch.file_counts)"
   ]
  },
  {
   "cell_type": "code",
   "execution_count": 24,
   "metadata": {},
   "outputs": [],
   "source": [
    "assistant = client.beta.assistants.update(\n",
    "  assistant_id=assistant.id,\n",
    "  tool_resources={\"file_search\": {\"vector_store_ids\": [vector_store.id]}},\n",
    ")"
   ]
  },
  {
   "cell_type": "code",
   "execution_count": 25,
   "metadata": {},
   "outputs": [
    {
     "name": "stdout",
     "output_type": "stream",
     "text": [
      "None\n"
     ]
    }
   ],
   "source": [
    "# Create a thread and attach the file to the message\n",
    "thread = client.beta.threads.create()\n",
    "\n",
    "message = client.beta.threads.messages.create(\n",
    "    thread_id=thread.id,\n",
    "    role=\"user\",\n",
    "    content=\"Use the PDF file Dod_grants that is in your vector store. Only use that to answer this prompt: Give me all grants related to supply chain vulnerabilities.\"\n",
    ")\n",
    "\n",
    "# thread = client.beta.threads.create(\n",
    "#   messages=[\n",
    "#     {\n",
    "#       \"role\": \"user\",\n",
    "#       \"content\": \"Use the PDF file Dod_grants that is in your vector store. Only use that to answer this prompt: Give me all grants related to supply chain vulnerabilities.\",\n",
    "#     }\n",
    "#   ]\n",
    "# )\n",
    "\n",
    "# The thread now has a vector store with that file in its tool resources.\n",
    "print(thread.tool_resources.file_search)"
   ]
  },
  {
   "cell_type": "code",
   "execution_count": 26,
   "metadata": {},
   "outputs": [
    {
     "name": "stdout",
     "output_type": "stream",
     "text": [
      "Here are the grants related to supply chain vulnerabilities from the provided document:\n",
      "\n",
      "1. **Resilience against Supply Chain Cyber Vulnerabilities**\n",
      "   - **Objective:** Develop a technology that ensures computing hardware integrated into future combat systems is trustworthy and secure against cyber threats.\n",
      "   - **Description:** Focuses on enhancing the security and robustness of shipboard computing infrastructure, which includes the integration of advanced multi-die systems. This technology is crucial for adapting to and responding to stresses within the IT environment, with an emphasis on cyber security[0].\n",
      "\n",
      "2. **Smart Contracts for Supply Chain Risk Management (SCRM)**\n",
      "   - **Objective:** Develop an acquisition and sustainment contracting framework that utilizes blockchain technology to manage supply chain risks.\n",
      "   - **Description:** The project aims to improve visibility and responsiveness within the global supply chain, particularly concerning sub-tier vendors. The implementation of smart contracts is intended to provide a significant increase in the government's ability to conduct Supply Chain Risk Management, enhancing understanding and management of risks associated with sourcing and procurement[1].\n",
      "\n",
      "These grants focus on addressing vulnerabilities in supply chains, particularly related to cybersecurity and the management of risks through innovative technological solutions.\n",
      "[0] DoD_grants.pdf\n",
      "[1] DoD_grants.pdf\n"
     ]
    }
   ],
   "source": [
    "# Use the create and poll SDK helper to create a run and poll the status of\n",
    "# the run until it's in a terminal state.\n",
    "\n",
    "run = client.beta.threads.runs.create_and_poll(\n",
    "    thread_id=thread.id, assistant_id=assistant.id\n",
    ")\n",
    "\n",
    "messages = list(client.beta.threads.messages.list(thread_id=thread.id, run_id=run.id))\n",
    "\n",
    "message_content = messages[0].content[0].text\n",
    "annotations = message_content.annotations\n",
    "citations = []\n",
    "for index, annotation in enumerate(annotations):\n",
    "    message_content.value = message_content.value.replace(annotation.text, f\"[{index}]\")\n",
    "    if file_citation := getattr(annotation, \"file_citation\", None):\n",
    "        cited_file = client.files.retrieve(file_citation.file_id)\n",
    "        citations.append(f\"[{index}] {cited_file.filename}\")\n",
    "\n",
    "print(message_content.value)\n",
    "print(\"\\n\".join(citations))"
   ]
  },
  {
   "cell_type": "code",
   "execution_count": 11,
   "metadata": {},
   "outputs": [
    {
     "name": "stdout",
     "output_type": "stream",
     "text": [
      "Here are the details regarding the grant titled **Resilience against Supply Chain Cyber Vulnerabilities**:\n",
      "\n",
      "- **Objective**: The primary aim of this grant is to develop technology that ensures that computing hardware technologies integrated into future combat systems are trustworthy and cyber secure. This is critical for maintaining the integrity and functionality of defense systems within potentially hostile environments.\n",
      "\n",
      "- **Description**: The shipboard computing infrastructure currently comprises over 3,000 Central Processing Unit (CPU) cores distributed across various military-grade cabinets situated in multiple spaces within a ship. This distributed setup is designed to enhance operational survivability in the event of damage to specific components. However, this inherent complexity brings significant challenges in maintaining security, robustness, trustworthiness, and performance of the computing infrastructure. \n",
      "\n",
      "The proposed technology focuses on infrastructure resilience, which comprises the ability of computing systems to adapt, mitigate, and respond to various stresses within the IT environment through integrated software and application solutions. The modern cyber-security landscape is supported by Security Information and Event Management (SIEM) systems that may utilize frameworks such as the NIST SP 800-145 standards for cloud computing (Infrastructure as a Service and Platform as a Service).\n",
      "\n",
      "- **Future Perspectives**: Current computer research is advancing towards multi-die systems, which enhance performance but also increase design complexity and security vulnerabilities. There is a growing need for standards such as the Universal Chiplet Interconnect Express (UCIe) to facilitate interoperability among components, while simultaneously ensuring robust connectivity and security even in operational conditions.\n",
      "\n",
      "The government is particularly focused on how to ensure that diverse suppliers can be integrated into these complex systems without compromising security integrity across the supply chain【8:7†source】.\n",
      "\n",
      "This grant underscores the critical nature of cybersecurity in military operations and reflects an urgent necessity to continually assess and strengthen supply chain resilience against evolving digital threats.\n"
     ]
    }
   ],
   "source": [
    "# testing follow up question\n",
    "follow_up = client.beta.threads.messages.create(\n",
    "  thread_id=thread.id,\n",
    "  role=\"user\",\n",
    "  content=\"Tell me more about the first grant\"\n",
    ")\n",
    "\n",
    "follow_up_run = client.beta.threads.runs.create_and_poll(\n",
    "    thread_id=thread.id, assistant_id=assistant.id\n",
    ")\n",
    "\n",
    "messages = list(client.beta.threads.messages.list(thread_id=thread.id, run_id=follow_up_run.id))\n",
    "\n",
    "message_content = messages[0].content[0].text\n",
    "print(message_content.value)"
   ]
  },
  {
   "cell_type": "code",
   "execution_count": 33,
   "metadata": {},
   "outputs": [
    {
     "name": "stdout",
     "output_type": "stream",
     "text": [
      "[NASASBIRExtraction(subtopic_letter='A', subtopic_number='1.02', title='Quiet Performance - Airframe Noise (SBIR)', scope_title='Airframe Noise Analysis and Characterization', expected_TRL_at_completion='2 to 5', keywords=['airframe noise', 'aeroacoustic analysis', 'computational fluid dynamics', 'propulsion efficiency', 'aircraft design']), NASASBIRExtraction(subtopic_letter='A1.08', subtopic_number='A1.08', title='Aeronautics Ground Test and Measurement Technologies: Diagnostic Systems for High-Speed Flows and Icing (SBIR)', scope_title='Miniaturized Flow Diagnostics for High-Speed Flows', expected_TRL_at_completion='4 to 7', keywords=['high-speed flows', 'diagnostic systems', 'miniaturized flow diagnostics', 'aeronautics', 'wind tunnel measurements']), NASASBIRExtraction(subtopic_letter='A2.04', subtopic_number='A2.04', title='Aviation Cybersecurity', scope_title='On-Board-Multicast-Network Systems Monitoring and Anomaly Detection with Reporting', expected_TRL_at_completion='4 to 5', keywords=['Aviation Cybersecurity', 'Anomaly Detection', 'Aircraft Systems', 'Network Monitoring', 'Safety Assurance', 'Risk Mitigation']), NASASBIRExtraction(subtopic_letter='A3.01', subtopic_number='A3.02', title='Monitoring Cybersecurity Vulnerabilities in Aviation Operational Systems', scope_title='Nontraditional Aviation Operations for Advanced Air Mobility (AAM)', expected_TRL_at_completion='1 to 4', keywords=['cybersecurity', 'aviation safety', 'AAM', 'operational systems', 'cyber-physical attacks']), NASASBIRExtraction(subtopic_letter='H5', subtopic_number='H5.01', title='Modular, Multi-Use 50 kW Lunar Solar Array Structures', scope_title='Modular, Multi-Use 50 kW Lunar Solar Array Structures', expected_TRL_at_completion='4 to 5', keywords=['lunar solar arrays', 'modular design', 'power generation', 'NASA', 'moon base', 'solar power', 'engineering', 'sustainable exploration']), NASASBIRExtraction(subtopic_letter='H8.01', subtopic_number='H8.01', title='In-Space Production Applications (InSPA) Flight Development and Demonstrations on ISS (SBIR)', scope_title='Use of the ISS to Foster Commercialization of LEO Space', expected_TRL_at_completion='3 to 6', keywords=['In-Space Production Applications', 'advanced materials', 'LEO', 'ISS', 'manufacturing', 'biomanufacturing', 'commercialization']), NASASBIRExtraction(subtopic_letter='H12.09', subtopic_number='H12.09', title='In-Suit Detection of Venous Gas Emboli', scope_title='In-Suit Detection of Venous Gas Emboli', expected_TRL_at_completion='4 to 6', keywords=['Extravehicular Activity', 'decompression sickness', 'ventricular gas embolism', 'lunar exploration', 'sensing technology', 'non-invasive monitoring', 'autonomous systems', 'human factors', 'space medicine', 'NASA standards']), NASASBIRExtraction(subtopic_letter='H15', subtopic_number='02', title='Simulation and Modeling of Lunar Mobility System Interaction with Lunar Regolith', scope_title='Macro and Micro Level Terramechanics Modeling and Simulation Tools', expected_TRL_at_completion='1 to 6', keywords=['lunar mobility', 'simulation', 'modeling', 'terramechanics', 'lunar regolith', 'NASA', 'EHP', 'lunar surface', 'robotics', 'autonomous vehicles', 'mobility systems']), NASASBIRExtraction(subtopic_letter='S11.03', subtopic_number='S11.03', title='Technologies for Passive Microwave Remote Sensing', scope_title='Components or Methods to Improve the Sensitivity, Calibration, or Resolution of Microwave/Millimeter-Wave Radiometers', expected_TRL_at_completion='3 to 5', keywords=['Passive Microwave Technologies', 'Radiometers', 'Sensitivity Improvement', 'Calibration', 'Resolution', 'Additive Manufacturing', 'Low-Noise Receivers', 'Bolometric Arrays', 'Microwave Kinetic Inductance Detectors']), NASASBIRExtraction(subtopic_letter='S11.05', subtopic_number='S11.05', title='Suborbital Instruments and Sensor Systems for Earth Science Measurements (SBIR)', scope_title='Sensors and Sensor Systems Targeting Trace Gases', expected_TRL_at_completion='4 to 7', keywords=['Suborbital', 'Instruments', 'Sensor Systems', 'Earth Science', 'Trace Gases', 'NASA', 'Measurement', 'Remote Sensing']), NASASBIRExtraction(subtopic_letter='S12.03', subtopic_number='S12.03', title='Deployable Baffle Design for Habitable Worlds Observatory', scope_title='Deployable Baffle Design for Habitable Worlds Observatory', expected_TRL_at_completion='3 to 5', keywords=['Habitable Worlds Observatory', 'micrometeoroid protection', 'thermal isolation', 'high contrast observations', 'deployable baffle', 'exoplanets', 'stray light suppression', 'thermal-optical performance', 'NASA SMD', 'Civil Space Shortfall Ranking']), NASASBIRExtraction(subtopic_letter='S12.06', subtopic_number='S12.06', title='Detector Technologies for Ultraviolet (UV), X-Ray, and Gamma-Ray Instruments (SBIR)', scope_title='Semiconductor Detector Technologies', expected_TRL_at_completion='3 to 5', keywords=['UV Detectors', 'X-Ray Detectors', 'Gamma-Ray Detectors', 'Semiconductor Technologies', 'Photon Counting', 'Quantum Efficiency', 'NASA Missions']), NASASBIRExtraction(subtopic_letter='S13.06', subtopic_number='S13.06: Dynamic Power Conversion (SBIR)', title='High Efficiency Power Conversion Technologies', scope_title='High Efficiency Power Conversion Technologies', expected_TRL_at_completion='2 to 5', keywords=['power conversion', 'Radioisotope Power Systems', 'high efficiency', 'dynamic power conversion', 'thermal-to-electric power conversion', 'Free-Piston Stirling cycle', 'radiation-hardened electronic controllers', 'thermal management technologies', 'space exploration']), NASASBIRExtraction(subtopic_letter='S14.01', subtopic_number='S14.01', title='Space Weather Research-to-Operations and Operations-to-Research (R2O2R) (SBIR)', scope_title='Space-Weather Forecasting and Nowcasting Technologies, Techniques, and Applications', expected_TRL_at_completion='3 to 7', keywords=['space weather', 'forecasting', 'nowcasting', 'NASA', 'research and operations', 'technology advancement', 'space weather instrumentation', 'decision-making applications']), NASASBIRExtraction(subtopic_letter='S15.02', subtopic_number='S15.02', title='In Situ Sample Preparation and Analysis for Biological and Physical Sciences in a Microgravity Environment', scope_title='Compact Devices for Sample Analysis in Space', expected_TRL_at_completion='2 to 6', keywords=['microgravity', 'sample analysis', 'biological specimens', 'environmental monitoring', 'autonomous operation']), NASASBIRExtraction(subtopic_letter='S16.03', subtopic_number='S16.03', title='Guidance, Navigation, and Control Sensors and Actuators', scope_title='Guidance, Navigation, and Control Sensors and Actuators', expected_TRL_at_completion='4 to 6', keywords=['Guidance', 'Navigation', 'Control', 'Sensors', 'Actuators', 'Spacecraft', 'Technology Development', 'NASA']), NASASBIRExtraction(subtopic_letter='S16.07', subtopic_number='S16.07', title='Cryogenic Systems for Sensors and Detectors (SBIR)', scope_title='High-Efficiency Cryocoolers', expected_TRL_at_completion='2 to 5', keywords=['Cryogenic cooling', 'NASA', 'Science instrumentation', 'Sensors', 'Detectors', 'Coolers', 'Technology advancements', 'Space exploration']), NASASBIRExtraction(subtopic_letter='S17.01', subtopic_number='Technologies for Large-Scale Numerical Simulation (SBIR)', title='Exascale Computing', scope_title='Exascale Computing', expected_TRL_at_completion='5 to 7', keywords=['high performance computing', 'numerical simulation', 'AI', 'machine learning', 'physics-informed neural networks', 'significant improvements', 'performance', 'data analytics']), NASASBIRExtraction(subtopic_letter='Z-GO.01', subtopic_number='Z-GO.01', title='Cryogenic Fluid Management (SBIR)', scope_title='Cryogenic Fluid Management (CFM)', expected_TRL_at_completion='2 to 4', keywords=['cryogenic propellant', 'storage', 'transfer', 'NASA', 'exploration', 'turbomachinery', 'pumps', 'temperature measurement']), NASASBIRExtraction(subtopic_letter='Z-LAND.01', subtopic_number='Z-LAND.01', title='Wireless Data Acquisition System for Entry, Descent, and Landing (EDL) Parachutes', scope_title='Wireless Data Acquisition System for Entry, Descent, and Landing (EDL) Parachutes', expected_TRL_at_completion='4 to 6', keywords=['parachute', 'maneuverability', 'data acquisition', 'wireless', 'sensors', 'strain measurements', 'space missions', 'NASA']), NASASBIRExtraction(subtopic_letter='Z-LIVE.01', subtopic_number='N/A', title='Surface Power Technologies (SBIR)', scope_title='Long Distance Power Transfer for Lunar and Mars Missions', expected_TRL_at_completion='4 to 5', keywords=['Surface Power', 'Lunar Missions', 'Mars Missions', 'Power Transfer', 'Energy Storage']), NASASBIRExtraction(subtopic_letter='Z-LIVE.05', subtopic_number='Z-LIVE.05', title='Regolith Excavation and Manipulation for Surface Operations and Infrastructure with Assembly and Outfitting of Lunar Surface Structures', scope_title='Implements for In-Situ Resource Utilization (ISRU) Regolith Excavation, Tailings Removal and Regolith Manipulation to Support Lunar Infrastructure Development', expected_TRL_at_completion='4 to 5', keywords=['lunar surface', 'regolith excavation', 'in-situ resource utilization', 'autonomous robots', 'construction', 'mining technologies', 'ISRU', 'lunar infrastructure']), NASASBIRExtraction(subtopic_letter='Z-EXPAND.01', subtopic_number='SBIR', title='Servicing and Assembly Applications (SBIR)', scope_title='Clean Robotics for Highly Sensitive Systems', expected_TRL_at_completion='1 to 4', keywords=['in-space servicing', 'robotic assembly', 'cleanliness characterization', 'instrument upgrade', 'space observatories']), NASASBIRExtraction(subtopic_letter='Z-EXPAND.03', subtopic_number='Z8.13', title='Space Debris Prevention for Small Spacecraft (SBIR)', scope_title='Enhanced Orbit Insertion, Avoidance Mobility, Deorbit and/or Disposal of Single Small Spacecraft', expected_TRL_at_completion='2 to 5', keywords=['space debris', 'small spacecraft', 'mobility', 'autonomous operations', 'deorbit', 'disposal']), NASASBIRExtraction(subtopic_letter='Z-EXPAND.04', subtopic_number='Z-EXPAND.04: Low Earth Orbit (LEO) Sustainability', title='Small Debris Tracking to Support Debris Removal', scope_title='Small Debris Tracking to Support Debris Removal', expected_TRL_at_completion='2 to 4', keywords=['LEO sustainability', 'orbital debris', 'space situational awareness', 'debris tracking', 'remediation technologies']), NASASBIRExtraction(subtopic_letter='Z-ENABLE.03', subtopic_number='03', title='Advanced In-Space Laser Welding and Nondestructive Evaluation (SBIR)', scope_title='Inspection Methods for Condition Based Maintenance of Vehicles for Lunar Excavation', expected_TRL_at_completion='1 to 5', keywords=['Nondestructive Evaluation', 'Lunar Transport Vehicles', 'Condition Based Maintenance', 'Structural Health Monitoring', 'Direct Remote Inspection', 'Laser Welding', 'Space Manufacturing', 'Lunar Excavation']), NASASBIRExtraction(subtopic_letter='Z-ENABLE.04', subtopic_number='SBIR', title='Robotic Hardware for In-Space Manipulation', scope_title='End Effectors for Manipulation Task Performance', expected_TRL_at_completion='3 to 6', keywords=['Robotic manipulation', 'NASA', 'Autonomous systems', 'Lunar exploration', 'Cislunar space', 'Robotic end effectors', 'In-space assembly', 'Sensing technologies', 'In-space manipulation']), NASASBIRExtraction(subtopic_letter='B', subtopic_number='1548', title='Modular, Interoperable, and Extensible Flight Software Frameworks', scope_title='Integrated Mission Planning and Execution Software for Earth-Independent Robotic Missions', expected_TRL_at_completion='2 to 6', keywords=['flight software frameworks', 'robotic systems', 'NASA', 'autonomous robots', 'lunar missions', 'software interoperability', 'robot control', 'perception technologies', 'space-rated systems', 'robotic manipulation'])]\n"
     ]
    }
   ],
   "source": [
    "from pydantic import BaseModel\n",
    "import pdfplumber\n",
    "import tiktoken  # OpenAI's tokenizer\n",
    "import time\n",
    "\n",
    "class NASASBIRExtraction(BaseModel):\n",
    "    subtopic_letter: str\n",
    "    subtopic_number: str\n",
    "    title: str\n",
    "    scope_title: str\n",
    "    expected_TRL_at_completion: str\n",
    "    keywords: list[str]\n",
    "\n",
    "# Function to extract text from PDF\n",
    "def extract_pdf_text(pdf_path):\n",
    "    with pdfplumber.open(pdf_path) as pdf:\n",
    "        text = \"\\n\".join([page.extract_text() for page in pdf.pages if page.extract_text()])\n",
    "    return text\n",
    "\n",
    "# Function to split text into chunks within the token limit\n",
    "def chunk_text(text, max_tokens=10_000):\n",
    "    enc = tiktoken.encoding_for_model(\"gpt-4o-mini\")\n",
    "    tokens = enc.encode(text)\n",
    "    \n",
    "    # Split into chunks\n",
    "    chunks = [tokens[i:i + max_tokens] for i in range(0, len(tokens), max_tokens)]\n",
    "    \n",
    "    # Decode tokens back into text chunks\n",
    "    return [enc.decode(chunk) for chunk in chunks]\n",
    "\n",
    "# Step 1: Extract and chunk text\n",
    "pdf_text = extract_pdf_text(\"2025_NASA_SBIR_PhaseI.pdf\")\n",
    "chunks = chunk_text(pdf_text)\n",
    "\n",
    "grant_results = []\n",
    "\n",
    "# Step 2: Send each chunk separately\n",
    "for chunk in chunks:\n",
    "    try:\n",
    "        completion = client.beta.chat.completions.parse(\n",
    "            model=\"gpt-4o-mini\",\n",
    "            messages=[\n",
    "                {\"role\": \"system\", \"content\": \"You are an expert at structured data extraction for grant proposals. Extract structured data from the provided text.\"},\n",
    "                {\"role\": \"user\", \"content\": chunk},\n",
    "            ],\n",
    "            response_format=NASASBIRExtraction,  # Using OpenAI's `parse()`\n",
    "        )\n",
    "        grant_results.append(completion.choices[0].message.parsed)\n",
    "        \n",
    "        time.sleep(1)  # Prevent rate limit issues\n",
    "    except Exception as e:\n",
    "        print(f\"Error processing chunk: {e}\")\n",
    "\n",
    "# Print results\n",
    "print(grant_results)"
   ]
  },
  {
   "cell_type": "code",
   "execution_count": 37,
   "metadata": {},
   "outputs": [
    {
     "name": "stdout",
     "output_type": "stream",
     "text": [
      "[NASASBIRExtraction(subtopic_letter='A', subtopic_number='1.02', title='Quiet Performance - Airframe Noise (SBIR)', scope_title='Airframe Noise Analysis and Characterization', expected_TRL_at_completion='2 to 5', keywords=['airframe noise', 'aeroacoustic analysis', 'computational fluid dynamics', 'propulsion efficiency', 'aircraft design']),\n",
      " NASASBIRExtraction(subtopic_letter='A1.08', subtopic_number='A1.08', title='Aeronautics Ground Test and Measurement Technologies: Diagnostic Systems for High-Speed Flows and Icing (SBIR)', scope_title='Miniaturized Flow Diagnostics for High-Speed Flows', expected_TRL_at_completion='4 to 7', keywords=['high-speed flows', 'diagnostic systems', 'miniaturized flow diagnostics', 'aeronautics', 'wind tunnel measurements']),\n",
      " NASASBIRExtraction(subtopic_letter='A2.04', subtopic_number='A2.04', title='Aviation Cybersecurity', scope_title='On-Board-Multicast-Network Systems Monitoring and Anomaly Detection with Reporting', expected_TRL_at_completion='4 to 5', keywords=['Aviation Cybersecurity', 'Anomaly Detection', 'Aircraft Systems', 'Network Monitoring', 'Safety Assurance', 'Risk Mitigation']),\n",
      " NASASBIRExtraction(subtopic_letter='A3.01', subtopic_number='A3.02', title='Monitoring Cybersecurity Vulnerabilities in Aviation Operational Systems', scope_title='Nontraditional Aviation Operations for Advanced Air Mobility (AAM)', expected_TRL_at_completion='1 to 4', keywords=['cybersecurity', 'aviation safety', 'AAM', 'operational systems', 'cyber-physical attacks']),\n",
      " NASASBIRExtraction(subtopic_letter='H5', subtopic_number='H5.01', title='Modular, Multi-Use 50 kW Lunar Solar Array Structures', scope_title='Modular, Multi-Use 50 kW Lunar Solar Array Structures', expected_TRL_at_completion='4 to 5', keywords=['lunar solar arrays', 'modular design', 'power generation', 'NASA', 'moon base', 'solar power', 'engineering', 'sustainable exploration']),\n",
      " NASASBIRExtraction(subtopic_letter='H8.01', subtopic_number='H8.01', title='In-Space Production Applications (InSPA) Flight Development and Demonstrations on ISS (SBIR)', scope_title='Use of the ISS to Foster Commercialization of LEO Space', expected_TRL_at_completion='3 to 6', keywords=['In-Space Production Applications', 'advanced materials', 'LEO', 'ISS', 'manufacturing', 'biomanufacturing', 'commercialization']),\n",
      " NASASBIRExtraction(subtopic_letter='H12.09', subtopic_number='H12.09', title='In-Suit Detection of Venous Gas Emboli', scope_title='In-Suit Detection of Venous Gas Emboli', expected_TRL_at_completion='4 to 6', keywords=['Extravehicular Activity', 'decompression sickness', 'ventricular gas embolism', 'lunar exploration', 'sensing technology', 'non-invasive monitoring', 'autonomous systems', 'human factors', 'space medicine', 'NASA standards']),\n",
      " NASASBIRExtraction(subtopic_letter='H15', subtopic_number='02', title='Simulation and Modeling of Lunar Mobility System Interaction with Lunar Regolith', scope_title='Macro and Micro Level Terramechanics Modeling and Simulation Tools', expected_TRL_at_completion='1 to 6', keywords=['lunar mobility', 'simulation', 'modeling', 'terramechanics', 'lunar regolith', 'NASA', 'EHP', 'lunar surface', 'robotics', 'autonomous vehicles', 'mobility systems']),\n",
      " NASASBIRExtraction(subtopic_letter='S11.03', subtopic_number='S11.03', title='Technologies for Passive Microwave Remote Sensing', scope_title='Components or Methods to Improve the Sensitivity, Calibration, or Resolution of Microwave/Millimeter-Wave Radiometers', expected_TRL_at_completion='3 to 5', keywords=['Passive Microwave Technologies', 'Radiometers', 'Sensitivity Improvement', 'Calibration', 'Resolution', 'Additive Manufacturing', 'Low-Noise Receivers', 'Bolometric Arrays', 'Microwave Kinetic Inductance Detectors']),\n",
      " NASASBIRExtraction(subtopic_letter='S11.05', subtopic_number='S11.05', title='Suborbital Instruments and Sensor Systems for Earth Science Measurements (SBIR)', scope_title='Sensors and Sensor Systems Targeting Trace Gases', expected_TRL_at_completion='4 to 7', keywords=['Suborbital', 'Instruments', 'Sensor Systems', 'Earth Science', 'Trace Gases', 'NASA', 'Measurement', 'Remote Sensing']),\n",
      " NASASBIRExtraction(subtopic_letter='S12.03', subtopic_number='S12.03', title='Deployable Baffle Design for Habitable Worlds Observatory', scope_title='Deployable Baffle Design for Habitable Worlds Observatory', expected_TRL_at_completion='3 to 5', keywords=['Habitable Worlds Observatory', 'micrometeoroid protection', 'thermal isolation', 'high contrast observations', 'deployable baffle', 'exoplanets', 'stray light suppression', 'thermal-optical performance', 'NASA SMD', 'Civil Space Shortfall Ranking']),\n",
      " NASASBIRExtraction(subtopic_letter='S12.06', subtopic_number='S12.06', title='Detector Technologies for Ultraviolet (UV), X-Ray, and Gamma-Ray Instruments (SBIR)', scope_title='Semiconductor Detector Technologies', expected_TRL_at_completion='3 to 5', keywords=['UV Detectors', 'X-Ray Detectors', 'Gamma-Ray Detectors', 'Semiconductor Technologies', 'Photon Counting', 'Quantum Efficiency', 'NASA Missions']),\n",
      " NASASBIRExtraction(subtopic_letter='S13.06', subtopic_number='S13.06: Dynamic Power Conversion (SBIR)', title='High Efficiency Power Conversion Technologies', scope_title='High Efficiency Power Conversion Technologies', expected_TRL_at_completion='2 to 5', keywords=['power conversion', 'Radioisotope Power Systems', 'high efficiency', 'dynamic power conversion', 'thermal-to-electric power conversion', 'Free-Piston Stirling cycle', 'radiation-hardened electronic controllers', 'thermal management technologies', 'space exploration']),\n",
      " NASASBIRExtraction(subtopic_letter='S14.01', subtopic_number='S14.01', title='Space Weather Research-to-Operations and Operations-to-Research (R2O2R) (SBIR)', scope_title='Space-Weather Forecasting and Nowcasting Technologies, Techniques, and Applications', expected_TRL_at_completion='3 to 7', keywords=['space weather', 'forecasting', 'nowcasting', 'NASA', 'research and operations', 'technology advancement', 'space weather instrumentation', 'decision-making applications']),\n",
      " NASASBIRExtraction(subtopic_letter='S15.02', subtopic_number='S15.02', title='In Situ Sample Preparation and Analysis for Biological and Physical Sciences in a Microgravity Environment', scope_title='Compact Devices for Sample Analysis in Space', expected_TRL_at_completion='2 to 6', keywords=['microgravity', 'sample analysis', 'biological specimens', 'environmental monitoring', 'autonomous operation']),\n",
      " NASASBIRExtraction(subtopic_letter='S16.03', subtopic_number='S16.03', title='Guidance, Navigation, and Control Sensors and Actuators', scope_title='Guidance, Navigation, and Control Sensors and Actuators', expected_TRL_at_completion='4 to 6', keywords=['Guidance', 'Navigation', 'Control', 'Sensors', 'Actuators', 'Spacecraft', 'Technology Development', 'NASA']),\n",
      " NASASBIRExtraction(subtopic_letter='S16.07', subtopic_number='S16.07', title='Cryogenic Systems for Sensors and Detectors (SBIR)', scope_title='High-Efficiency Cryocoolers', expected_TRL_at_completion='2 to 5', keywords=['Cryogenic cooling', 'NASA', 'Science instrumentation', 'Sensors', 'Detectors', 'Coolers', 'Technology advancements', 'Space exploration']),\n",
      " NASASBIRExtraction(subtopic_letter='S17.01', subtopic_number='Technologies for Large-Scale Numerical Simulation (SBIR)', title='Exascale Computing', scope_title='Exascale Computing', expected_TRL_at_completion='5 to 7', keywords=['high performance computing', 'numerical simulation', 'AI', 'machine learning', 'physics-informed neural networks', 'significant improvements', 'performance', 'data analytics']),\n",
      " NASASBIRExtraction(subtopic_letter='Z-GO.01', subtopic_number='Z-GO.01', title='Cryogenic Fluid Management (SBIR)', scope_title='Cryogenic Fluid Management (CFM)', expected_TRL_at_completion='2 to 4', keywords=['cryogenic propellant', 'storage', 'transfer', 'NASA', 'exploration', 'turbomachinery', 'pumps', 'temperature measurement']),\n",
      " NASASBIRExtraction(subtopic_letter='Z-LAND.01', subtopic_number='Z-LAND.01', title='Wireless Data Acquisition System for Entry, Descent, and Landing (EDL) Parachutes', scope_title='Wireless Data Acquisition System for Entry, Descent, and Landing (EDL) Parachutes', expected_TRL_at_completion='4 to 6', keywords=['parachute', 'maneuverability', 'data acquisition', 'wireless', 'sensors', 'strain measurements', 'space missions', 'NASA']),\n",
      " NASASBIRExtraction(subtopic_letter='Z-LIVE.01', subtopic_number='N/A', title='Surface Power Technologies (SBIR)', scope_title='Long Distance Power Transfer for Lunar and Mars Missions', expected_TRL_at_completion='4 to 5', keywords=['Surface Power', 'Lunar Missions', 'Mars Missions', 'Power Transfer', 'Energy Storage']),\n",
      " NASASBIRExtraction(subtopic_letter='Z-LIVE.05', subtopic_number='Z-LIVE.05', title='Regolith Excavation and Manipulation for Surface Operations and Infrastructure with Assembly and Outfitting of Lunar Surface Structures', scope_title='Implements for In-Situ Resource Utilization (ISRU) Regolith Excavation, Tailings Removal and Regolith Manipulation to Support Lunar Infrastructure Development', expected_TRL_at_completion='4 to 5', keywords=['lunar surface', 'regolith excavation', 'in-situ resource utilization', 'autonomous robots', 'construction', 'mining technologies', 'ISRU', 'lunar infrastructure']),\n",
      " NASASBIRExtraction(subtopic_letter='Z-EXPAND.01', subtopic_number='SBIR', title='Servicing and Assembly Applications (SBIR)', scope_title='Clean Robotics for Highly Sensitive Systems', expected_TRL_at_completion='1 to 4', keywords=['in-space servicing', 'robotic assembly', 'cleanliness characterization', 'instrument upgrade', 'space observatories']),\n",
      " NASASBIRExtraction(subtopic_letter='Z-EXPAND.03', subtopic_number='Z8.13', title='Space Debris Prevention for Small Spacecraft (SBIR)', scope_title='Enhanced Orbit Insertion, Avoidance Mobility, Deorbit and/or Disposal of Single Small Spacecraft', expected_TRL_at_completion='2 to 5', keywords=['space debris', 'small spacecraft', 'mobility', 'autonomous operations', 'deorbit', 'disposal']),\n",
      " NASASBIRExtraction(subtopic_letter='Z-EXPAND.04', subtopic_number='Z-EXPAND.04: Low Earth Orbit (LEO) Sustainability', title='Small Debris Tracking to Support Debris Removal', scope_title='Small Debris Tracking to Support Debris Removal', expected_TRL_at_completion='2 to 4', keywords=['LEO sustainability', 'orbital debris', 'space situational awareness', 'debris tracking', 'remediation technologies']),\n",
      " NASASBIRExtraction(subtopic_letter='Z-ENABLE.03', subtopic_number='03', title='Advanced In-Space Laser Welding and Nondestructive Evaluation (SBIR)', scope_title='Inspection Methods for Condition Based Maintenance of Vehicles for Lunar Excavation', expected_TRL_at_completion='1 to 5', keywords=['Nondestructive Evaluation', 'Lunar Transport Vehicles', 'Condition Based Maintenance', 'Structural Health Monitoring', 'Direct Remote Inspection', 'Laser Welding', 'Space Manufacturing', 'Lunar Excavation']),\n",
      " NASASBIRExtraction(subtopic_letter='Z-ENABLE.04', subtopic_number='SBIR', title='Robotic Hardware for In-Space Manipulation', scope_title='End Effectors for Manipulation Task Performance', expected_TRL_at_completion='3 to 6', keywords=['Robotic manipulation', 'NASA', 'Autonomous systems', 'Lunar exploration', 'Cislunar space', 'Robotic end effectors', 'In-space assembly', 'Sensing technologies', 'In-space manipulation']),\n",
      " NASASBIRExtraction(subtopic_letter='B', subtopic_number='1548', title='Modular, Interoperable, and Extensible Flight Software Frameworks', scope_title='Integrated Mission Planning and Execution Software for Earth-Independent Robotic Missions', expected_TRL_at_completion='2 to 6', keywords=['flight software frameworks', 'robotic systems', 'NASA', 'autonomous robots', 'lunar missions', 'software interoperability', 'robot control', 'perception technologies', 'space-rated systems', 'robotic manipulation'])]\n"
     ]
    }
   ],
   "source": [
    "pprint.pprint(grant_results)"
   ]
  }
 ],
 "metadata": {
  "kernelspec": {
   "display_name": "Python 3",
   "language": "python",
   "name": "python3"
  },
  "language_info": {
   "codemirror_mode": {
    "name": "ipython",
    "version": 3
   },
   "file_extension": ".py",
   "mimetype": "text/x-python",
   "name": "python",
   "nbconvert_exporter": "python",
   "pygments_lexer": "ipython3",
   "version": "3.12.6"
  }
 },
 "nbformat": 4,
 "nbformat_minor": 2
}
