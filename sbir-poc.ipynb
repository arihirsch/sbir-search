{
 "cells": [
  {
   "cell_type": "code",
   "execution_count": 2,
   "metadata": {},
   "outputs": [],
   "source": [
    "from openai import OpenAI\n",
    "\n",
    "client = OpenAI(\n",
    "  api_key=\"\"\n",
    ")\n",
    "\n",
    "assistant = client.beta.assistants.create(\n",
    "  name=\"SBIR Assistant\",\n",
    "  instructions=\"You are an expert on government grants and funding. You are able to answer questions about the grants and funding available to small businesses.\",\n",
    "  model=\"gpt-4o-mini\",\n",
    "  tools=[{\"type\": \"file_search\"}],\n",
    ")"
   ]
  },
  {
   "cell_type": "code",
   "execution_count": null,
   "metadata": {},
   "outputs": [
    {
     "name": "stdout",
     "output_type": "stream",
     "text": [
      "completed\n",
      "FileCounts(cancelled=0, completed=1, failed=0, in_progress=0, total=1)\n"
     ]
    }
   ],
   "source": [
    "# Create a vector store caled \"SBIR Grants\"\n",
    "vector_store = client.beta.vector_stores.create(name=\"SBIR Grants\")\n",
    "\n",
    "# Ready the files for upload to OpenAI\n",
    "file_paths = [\"./DoD_grants.pdf\"]\n",
    "file_streams = [open(path, \"rb\") for path in file_paths]\n",
    "\n",
    "# Use the upload and poll SDK helper to upload the files, add them to the vector store,\n",
    "# and poll the status of the file batch for completion.\n",
    "file_batch = client.beta.vector_stores.file_batches.upload_and_poll(\n",
    "  vector_store_id=vector_store.id, files=file_streams\n",
    ")\n",
    "\n",
    "# You can print the status and the file counts of the batch to see the result of this operation.\n",
    "print(file_batch.status)\n",
    "print(file_batch.file_counts)"
   ]
  },
  {
   "cell_type": "code",
   "execution_count": 4,
   "metadata": {},
   "outputs": [],
   "source": [
    "assistant = client.beta.assistants.update(\n",
    "  assistant_id=assistant.id,\n",
    "  tool_resources={\"file_search\": {\"vector_store_ids\": [vector_store.id]}},\n",
    ")"
   ]
  },
  {
   "cell_type": "code",
   "execution_count": 9,
   "metadata": {},
   "outputs": [
    {
     "name": "stdout",
     "output_type": "stream",
     "text": [
      "None\n"
     ]
    }
   ],
   "source": [
    "# Create a thread and attach the file to the message\n",
    "thread = client.beta.threads.create()\n",
    "\n",
    "message = client.beta.threads.messages.create(\n",
    "    thread_id=thread.id,\n",
    "    role=\"user\",\n",
    "    content=\"Use the PDF file Dod_grants that is in your vector store. Only use that to answer this prompt: Give me all grants related to supply chain vulnerabilities.\"\n",
    ")\n",
    "\n",
    "# thread = client.beta.threads.create(\n",
    "#   messages=[\n",
    "#     {\n",
    "#       \"role\": \"user\",\n",
    "#       \"content\": \"Use the PDF file Dod_grants that is in your vector store. Only use that to answer this prompt: Give me all grants related to supply chain vulnerabilities.\",\n",
    "#     }\n",
    "#   ]\n",
    "# )\n",
    "\n",
    "# The thread now has a vector store with that file in its tool resources.\n",
    "print(thread.tool_resources.file_search)"
   ]
  },
  {
   "cell_type": "code",
   "execution_count": 10,
   "metadata": {},
   "outputs": [
    {
     "name": "stdout",
     "output_type": "stream",
     "text": [
      "Here are the grants related to supply chain vulnerabilities from the provided document:\n",
      "\n",
      "1. **Resilience against Supply Chain Cyber Vulnerabilities**\n",
      "   - **Objective**: Develop a technology that ensures computing hardware technologies integrated into future combat systems are trustworthy and cyber secure.\n",
      "   - **Description**: This grant focuses on enhancing the resilience of shipboard computing infrastructure and ensuring the security, robustness, trustworthiness, and performance against potential cyber threats in the supply chain[0].\n",
      "\n",
      "2. **Smart Contracts for Supply Chain Risk Management (SCRM)**\n",
      "   - **Objective**: Develop an acquisition and sustainment contracting framework to implement smart contracts for SCRM using blockchain technology across Strategic Systems Programs (SSP).\n",
      "   - **Description**: This project aims to improve visibility of sub-tier vendors in the supply chain to enhance resilience and respond to potential risks. The initiative aligns with actions taken in response to Executive Order 14017 on securing defense-critical supply chains[1].\n",
      "\n",
      "These grants aim to enhance the security and resilience of supply chains, particularly focusing on addressing cyber vulnerabilities and ensuring better risk management through contractual innovations.\n",
      "[0] DoD_grants.pdf\n",
      "[1] DoD_grants.pdf\n"
     ]
    }
   ],
   "source": [
    "# Use the create and poll SDK helper to create a run and poll the status of\n",
    "# the run until it's in a terminal state.\n",
    "\n",
    "run = client.beta.threads.runs.create_and_poll(\n",
    "    thread_id=thread.id, assistant_id=assistant.id\n",
    ")\n",
    "\n",
    "messages = list(client.beta.threads.messages.list(thread_id=thread.id, run_id=run.id))\n",
    "\n",
    "message_content = messages[0].content[0].text\n",
    "annotations = message_content.annotations\n",
    "citations = []\n",
    "for index, annotation in enumerate(annotations):\n",
    "    message_content.value = message_content.value.replace(annotation.text, f\"[{index}]\")\n",
    "    if file_citation := getattr(annotation, \"file_citation\", None):\n",
    "        cited_file = client.files.retrieve(file_citation.file_id)\n",
    "        citations.append(f\"[{index}] {cited_file.filename}\")\n",
    "\n",
    "print(message_content.value)\n",
    "print(\"\\n\".join(citations))"
   ]
  },
  {
   "cell_type": "code",
   "execution_count": 11,
   "metadata": {},
   "outputs": [
    {
     "name": "stdout",
     "output_type": "stream",
     "text": [
      "Here are the details regarding the grant titled **Resilience against Supply Chain Cyber Vulnerabilities**:\n",
      "\n",
      "- **Objective**: The primary aim of this grant is to develop technology that ensures that computing hardware technologies integrated into future combat systems are trustworthy and cyber secure. This is critical for maintaining the integrity and functionality of defense systems within potentially hostile environments.\n",
      "\n",
      "- **Description**: The shipboard computing infrastructure currently comprises over 3,000 Central Processing Unit (CPU) cores distributed across various military-grade cabinets situated in multiple spaces within a ship. This distributed setup is designed to enhance operational survivability in the event of damage to specific components. However, this inherent complexity brings significant challenges in maintaining security, robustness, trustworthiness, and performance of the computing infrastructure. \n",
      "\n",
      "The proposed technology focuses on infrastructure resilience, which comprises the ability of computing systems to adapt, mitigate, and respond to various stresses within the IT environment through integrated software and application solutions. The modern cyber-security landscape is supported by Security Information and Event Management (SIEM) systems that may utilize frameworks such as the NIST SP 800-145 standards for cloud computing (Infrastructure as a Service and Platform as a Service).\n",
      "\n",
      "- **Future Perspectives**: Current computer research is advancing towards multi-die systems, which enhance performance but also increase design complexity and security vulnerabilities. There is a growing need for standards such as the Universal Chiplet Interconnect Express (UCIe) to facilitate interoperability among components, while simultaneously ensuring robust connectivity and security even in operational conditions.\n",
      "\n",
      "The government is particularly focused on how to ensure that diverse suppliers can be integrated into these complex systems without compromising security integrity across the supply chain【8:7†source】.\n",
      "\n",
      "This grant underscores the critical nature of cybersecurity in military operations and reflects an urgent necessity to continually assess and strengthen supply chain resilience against evolving digital threats.\n"
     ]
    }
   ],
   "source": [
    "# testing follow up question\n",
    "follow_up = client.beta.threads.messages.create(\n",
    "  thread_id=thread.id,\n",
    "  role=\"user\",\n",
    "  content=\"Tell me more about the first grant\"\n",
    ")\n",
    "\n",
    "follow_up_run = client.beta.threads.runs.create_and_poll(\n",
    "    thread_id=thread.id, assistant_id=assistant.id\n",
    ")\n",
    "\n",
    "messages = list(client.beta.threads.messages.list(thread_id=thread.id, run_id=follow_up_run.id))\n",
    "\n",
    "message_content = messages[0].content[0].text\n",
    "print(message_content.value)"
   ]
  }
 ],
 "metadata": {
  "kernelspec": {
   "display_name": "Python 3",
   "language": "python",
   "name": "python3"
  },
  "language_info": {
   "codemirror_mode": {
    "name": "ipython",
    "version": 3
   },
   "file_extension": ".py",
   "mimetype": "text/x-python",
   "name": "python",
   "nbconvert_exporter": "python",
   "pygments_lexer": "ipython3",
   "version": "3.12.6"
  }
 },
 "nbformat": 4,
 "nbformat_minor": 2
}
