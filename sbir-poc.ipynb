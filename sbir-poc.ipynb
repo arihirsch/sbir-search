{
 "cells": [
  {
   "cell_type": "code",
   "execution_count": 2,
   "metadata": {},
   "outputs": [],
   "source": [
    "from openai import OpenAI\n",
    "\n",
    "client = OpenAI(\n",
    "  api_key=\"\"\n",
    ")\n",
    "\n",
    "assistant = client.beta.assistants.create(\n",
    "  name=\"SBIR Assistant\",\n",
    "  instructions=\"You are an expert on government grants and funding. You are able to answer questions about the grants and funding available to small businesses.\",\n",
    "  model=\"gpt-4o-mini\",\n",
    "  tools=[{\"type\": \"file_search\"}],\n",
    ")"
   ]
  },
  {
   "cell_type": "code",
   "execution_count": 3,
   "metadata": {},
   "outputs": [
    {
     "name": "stdout",
     "output_type": "stream",
     "text": [
      "completed\n",
      "FileCounts(cancelled=0, completed=1, failed=0, in_progress=0, total=1)\n"
     ]
    }
   ],
   "source": [
    "# Create a vector store caled \"Financial Statements\"\n",
    "vector_store = client.beta.vector_stores.create(name=\"SBIR Grants\")\n",
    "\n",
    "# Ready the files for upload to OpenAI\n",
    "file_paths = [\"./DoD_grants.pdf\"]\n",
    "file_streams = [open(path, \"rb\") for path in file_paths]\n",
    "\n",
    "# Use the upload and poll SDK helper to upload the files, add them to the vector store,\n",
    "# and poll the status of the file batch for completion.\n",
    "file_batch = client.beta.vector_stores.file_batches.upload_and_poll(\n",
    "  vector_store_id=vector_store.id, files=file_streams\n",
    ")\n",
    "\n",
    "# You can print the status and the file counts of the batch to see the result of this operation.\n",
    "print(file_batch.status)\n",
    "print(file_batch.file_counts)"
   ]
  },
  {
   "cell_type": "code",
   "execution_count": 4,
   "metadata": {},
   "outputs": [],
   "source": [
    "assistant = client.beta.assistants.update(\n",
    "  assistant_id=assistant.id,\n",
    "  tool_resources={\"file_search\": {\"vector_store_ids\": [vector_store.id]}},\n",
    ")"
   ]
  },
  {
   "cell_type": "code",
   "execution_count": 13,
   "metadata": {},
   "outputs": [
    {
     "name": "stdout",
     "output_type": "stream",
     "text": [
      "None\n"
     ]
    }
   ],
   "source": [
    "# Create a thread and attach the file to the message\n",
    "thread = client.beta.threads.create(\n",
    "  messages=[\n",
    "    {\n",
    "      \"role\": \"user\",\n",
    "      \"content\": \"Use the PDF file Dod_grants that is in your vector store. Only use that to answer this prompt: Give me all grants related to supply chain vulnerabilities.\",\n",
    "    }\n",
    "  ]\n",
    ")\n",
    "\n",
    "# The thread now has a vector store with that file in its tool resources.\n",
    "print(thread.tool_resources.file_search)"
   ]
  },
  {
   "cell_type": "code",
   "execution_count": 14,
   "metadata": {},
   "outputs": [
    {
     "name": "stdout",
     "output_type": "stream",
     "text": [
      "Here are the grants related to supply chain vulnerabilities identified in the document \"Dod_grants\":\n",
      "\n",
      "1. **Resilience against Supply Chain Cyber Vulnerabilities** (N251-042)\n",
      "   - **Objective**: Develop technology that ensures computing hardware technologies integrated into future combat systems are trustworthy and cyber secure.\n",
      "   - **Description**: Focuses on ensuring the security, robustness, and overall performance of distributed shipboard computing infrastructure which includes over 3,000 CPU cores distributed across military-grade cabinets. The grant is aimed at improving the resilience of computational infrastructure amidst evolving cyber threats.\n",
      "   \n",
      "2. **Smart Contracts for Supply Chain Risk Management (SCRM)** (N251-068)\n",
      "   - **Objective**: Develop an acquisition and sustainment contracting framework utilizing Smart Contracts for SCRM, employing blockchain technology.\n",
      "   - **Description**: This initiative enhances visibility into supply chain processes and vendor activities, providing the government with a better understanding of vendor risks and logistics. It is a response to the Executive Order 14017 aimed at securing defense-critical supply chains.\n",
      "\n",
      "These grants emphasize the importance of cybersecurity within the supply chain and the implementation of modern technologies like blockchain to enhance transparency and resilience against vulnerabilities[0][1][2][3][4].\n",
      "[0] DoD_grants.pdf\n",
      "[1] DoD_grants.pdf\n",
      "[2] DoD_grants.pdf\n",
      "[3] DoD_grants.pdf\n",
      "[4] DoD_grants.pdf\n"
     ]
    }
   ],
   "source": [
    "# Use the create and poll SDK helper to create a run and poll the status of\n",
    "# the run until it's in a terminal state.\n",
    "\n",
    "run = client.beta.threads.runs.create_and_poll(\n",
    "    thread_id=thread.id, assistant_id=assistant.id\n",
    ")\n",
    "\n",
    "messages = list(client.beta.threads.messages.list(thread_id=thread.id, run_id=run.id))\n",
    "\n",
    "message_content = messages[0].content[0].text\n",
    "annotations = message_content.annotations\n",
    "citations = []\n",
    "for index, annotation in enumerate(annotations):\n",
    "    message_content.value = message_content.value.replace(annotation.text, f\"[{index}]\")\n",
    "    if file_citation := getattr(annotation, \"file_citation\", None):\n",
    "        cited_file = client.files.retrieve(file_citation.file_id)\n",
    "        citations.append(f\"[{index}] {cited_file.filename}\")\n",
    "\n",
    "print(message_content.value)\n",
    "print(\"\\n\".join(citations))"
   ]
  }
 ],
 "metadata": {
  "kernelspec": {
   "display_name": "Python 3",
   "language": "python",
   "name": "python3"
  },
  "language_info": {
   "codemirror_mode": {
    "name": "ipython",
    "version": 3
   },
   "file_extension": ".py",
   "mimetype": "text/x-python",
   "name": "python",
   "nbconvert_exporter": "python",
   "pygments_lexer": "ipython3",
   "version": "3.12.2"
  }
 },
 "nbformat": 4,
 "nbformat_minor": 2
}
